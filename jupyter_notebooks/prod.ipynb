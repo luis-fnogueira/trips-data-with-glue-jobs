{
	"cells": [
		{
			"cell_type": "markdown",
			"metadata": {},
			"source": [
				"# 1. Downloading dependencies"
			]
		},
		{
			"cell_type": "code",
			"execution_count": null,
			"metadata": {
				"trusted": true
			},
			"outputs": [],
			"source": [
				"import sys\n",
				"import logging\n",
				"from awsglue.job import Job\n",
				"from awsglue.transforms import *\n",
				"from pyspark.sql import SparkSession\n",
				"from awsglue.context import GlueContext\n",
				"from awsglue.utils import getResolvedOptions\n",
				"from com.amazonaws.services.glue import DynamicFrame"
			]
		},
		{
			"cell_type": "code",
			"execution_count": null,
			"metadata": {},
			"outputs": [],
			"source": [
				"# Creating logger object so it's easier to debug looking at CloudWatch logs\n",
				"logger = logging.getLogger()\n",
				"logger.setLevel(logging.INFO)"
			]
		},
		{
			"attachments": {},
			"cell_type": "markdown",
			"metadata": {},
			"source": [
				"I created this code firstly in plain PySpark in a colab enviroment, so I could make some explanatory analysis. That code is [here](\"https://github.com/luis-fnogueira/trips-data/blob/main/trip-data.ipynb\"). Then, thereafter, I adapted that code to Glue Job."
			]
		},
		{
			"cell_type": "markdown",
			"metadata": {},
			"source": [
				"## 1.1 Creating GlueContext and loading data"
			]
		},
		{
			"cell_type": "markdown",
			"metadata": {},
			"source": [
				"Firstly I'm creating a Spark Dataframe to convert in a Glue Dynamic DF later."
			]
		},
		{
			"cell_type": "code",
			"execution_count": null,
			"metadata": {},
			"outputs": [],
			"source": [
				"spark = SparkSession.builder.master(\"local[*]\").appName(\"trips_data\").getOrCreate()"
			]
		},
		{
			"cell_type": "code",
			"execution_count": null,
			"metadata": {},
			"outputs": [],
			"source": [
				"spark"
			]
		},
		{
			"cell_type": "code",
			"execution_count": null,
			"metadata": {},
			"outputs": [],
			"source": [
				"glue_context = GlueContext(spark.sparkContext)"
			]
		},
		{
			"cell_type": "code",
			"execution_count": null,
			"metadata": {},
			"outputs": [],
			"source": [
				"## params: [JOB_NAME]\n",
				"args = getResolvedOptions(sys.argv, ['JOB_NAME'])\n",
				"job = Job(glue_context)\n",
				"job.init(args['JOB_NAME'], args)"
			]
		},
		{
			"cell_type": "code",
			"execution_count": null,
			"metadata": {},
			"outputs": [],
			"source": [
				"df_dynamic = glue_context.create_dynamic_frame_from_options(connection_type='s3',\n",
				"                                                            connection_options={'paths': ['s3://903442739132-source-bucket-trips-data-01/year=2021/*']},\n",
				"                                                            format=\"parquet\")"
			]
		},
		{
			"cell_type": "code",
			"execution_count": null,
			"metadata": {},
			"outputs": [],
			"source": [
				"logger.info(f'printSchema: {df_dynamic.printSchema()}')"
			]
		},
		{
			"cell_type": "markdown",
			"metadata": {},
			"source": [
				"# 2. Separating files by type of license"
			]
		},
		{
			"attachments": {},
			"cell_type": "markdown",
			"metadata": {},
			"source": [
				"As described in the dataset documentation:\n",
				"\n",
				"**Field name**: hvfhs_license_num\n",
				"\n",
				"**Description**: the TLC license number of the HVFHS base or business as of September 2019, the HVFHS licensees are the following: HV0002: Juno, HV0003: Uber, HV0004: Via and HV0005: Lyft"
			]
		},
		{
			"cell_type": "code",
			"execution_count": null,
			"metadata": {},
			"outputs": [],
			"source": [
				"df_uber = df_dynamic.filter(f=lambda x: x[\"hvfhs_license_num\"] in \"HV0003\")"
			]
		},
		{
			"cell_type": "code",
			"execution_count": null,
			"metadata": {},
			"outputs": [],
			"source": [
				"df_via = df_dynamic.filter(f=lambda x: x[\"hvfhs_license_num\"] in \"HV0004\")"
			]
		},
		{
			"cell_type": "code",
			"execution_count": null,
			"metadata": {},
			"outputs": [],
			"source": [
				"df_lyft = df_dynamic.filter(f=lambda x: x[\"hvfhs_license_num\"] in \"HV0005\")"
			]
		},
		{
			"cell_type": "code",
			"execution_count": null,
			"metadata": {},
			"outputs": [],
			"source": [
				"glue_context.write_dynamic_frame.from_options(\n",
				"    frame=df_uber,\n",
				"    connection_type='s3',\n",
				"    connection_options={\n",
				"        'path': 's3://903442739132-type-of-license-bucket/year=2021/',\n",
				"    },\n",
				"    format='csv',\n",
				"    format_options={\n",
				"        'separator': \",\"\n",
				"    }\n",
				")"
			]
		},
		{
			"cell_type": "code",
			"execution_count": null,
			"metadata": {},
			"outputs": [],
			"source": [
				"logger.info(f'Created df_uber file')"
			]
		},
		{
			"cell_type": "code",
			"execution_count": null,
			"metadata": {},
			"outputs": [],
			"source": [
				"glue_context.write_dynamic_frame.from_options(\n",
				"    frame=df_via,\n",
				"    connection_type='s3',\n",
				"    connection_options={\n",
				"        'path': 's3://903442739132-type-of-license-bucket/year=2021/',\n",
				"    },\n",
				"    format='csv',\n",
				"    format_options={\n",
				"        'separator': \",\"\n",
				"    }\n",
				")"
			]
		},
		{
			"cell_type": "code",
			"execution_count": null,
			"metadata": {},
			"outputs": [],
			"source": [
				"logger.info(f'Created df_via file')"
			]
		},
		{
			"cell_type": "code",
			"execution_count": null,
			"metadata": {},
			"outputs": [],
			"source": [
				"glue_context.write_dynamic_frame.from_options(\n",
				"    frame=df_lyft,\n",
				"    connection_type='s3',\n",
				"    connection_options={\n",
				"        'path': 's3://903442739132-type-of-license-bucket/year=2021/',\n",
				"    },\n",
				"    format='csv',\n",
				"    format_options={\n",
				"        'separator': \",\"\n",
				"    }\n",
				")"
			]
		},
		{
			"cell_type": "code",
			"execution_count": null,
			"metadata": {},
			"outputs": [],
			"source": [
				"logger.info(f'Created df_lyft file')"
			]
		},
		{
			"attachments": {},
			"cell_type": "markdown",
			"metadata": {},
			"source": [
				"# 3. Setting aside only rides that were not shared"
			]
		},
		{
			"cell_type": "code",
			"execution_count": null,
			"metadata": {},
			"outputs": [],
			"source": [
				"df_uber = df_dynamic.filter(f=lambda x: x[\"shared_match_flag \"] not in \"Y\")"
			]
		},
		{
			"cell_type": "code",
			"execution_count": null,
			"metadata": {},
			"outputs": [],
			"source": [
				"glue_context.write_dynamic_frame.from_options(\n",
				"    frame=df_lyft,\n",
				"    connection_type='s3',\n",
				"    connection_options={\n",
				"        'path': 's3://903442739132-trips-not-shared-bucket/year=2021/',\n",
				"    },\n",
				"    format='csv',\n",
				"    format_options={\n",
				"        'separator': \",\"\n",
				"    }\n",
				")"
			]
		},
		{
			"cell_type": "code",
			"execution_count": null,
			"metadata": {},
			"outputs": [],
			"source": [
				"logger.info(f'Created trips not shared')"
			]
		},
		{
			"attachments": {},
			"cell_type": "markdown",
			"metadata": {},
			"source": [
				"# 4. Selecting trips which the driver received more than 10 dollars"
			]
		},
		{
			"cell_type": "code",
			"execution_count": null,
			"metadata": {},
			"outputs": [],
			"source": [
				"from pyspark.sql.functions import floor"
			]
		},
		{
			"cell_type": "code",
			"execution_count": null,
			"metadata": {},
			"outputs": [],
			"source": [
				"df = df_dynamic.toDF()"
			]
		},
		{
			"cell_type": "code",
			"execution_count": null,
			"metadata": {},
			"outputs": [],
			"source": [
				"df = df.withColumn(\"grouped_driver_pay\", floor(df[\"driver_pay\"]/10)*10)"
			]
		},
		{
			"cell_type": "code",
			"execution_count": null,
			"metadata": {},
			"outputs": [],
			"source": [
				"df_over_10 = df.filter(df.grouped_driver_pay >10)"
			]
		},
		{
			"cell_type": "code",
			"execution_count": null,
			"metadata": {},
			"outputs": [],
			"source": [
				"dyf_grouped = DynamicFrame.fromDF(df_over_10, glue_context)"
			]
		},
		{
			"cell_type": "code",
			"execution_count": null,
			"metadata": {},
			"outputs": [],
			"source": [
				"glue_context.write_dynamic_frame.from_options(\n",
				"    frame=dyf_grouped,\n",
				"    connection_type='s3',\n",
				"    connection_options={\n",
				"        'path': 's3://903442739132-trips-more-than-10-dollars-bucket/year=2021/',\n",
				"    },\n",
				"    format='csv',\n",
				"    format_options={\n",
				"        'separator': \",\"\n",
				"    }\n",
				")"
			]
		},
		{
			"cell_type": "code",
			"execution_count": null,
			"metadata": {},
			"outputs": [],
			"source": [
				"job.commit()"
			]
		}
	],
	"metadata": {
		"kernelspec": {
			"display_name": "Python 3",
			"language": "python",
			"name": "python3"
		},
		"language_info": {
			"codemirror_mode": {
				"name": "python",
				"version": 3
			},
			"file_extension": ".py",
			"mimetype": "text/x-python",
			"name": "python",
			"pygments_lexer": "python3",
			"version": "3.8.10"
		}
	},
	"nbformat": 4,
	"nbformat_minor": 4
}
